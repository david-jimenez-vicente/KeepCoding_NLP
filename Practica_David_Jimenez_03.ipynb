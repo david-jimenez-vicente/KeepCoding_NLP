{
 "cells": [
  {
   "cell_type": "markdown",
   "id": "5e5e17b6-dd72-474d-9147-214e42ee6913",
   "metadata": {},
   "source": [
    "<h1 align=center>PRÁCTICA DEL MÓDULO DE NLP</h1>"
   ]
  },
  {
   "cell_type": "markdown",
   "id": "bd675b3e-1b83-446d-8126-64bb3558ad25",
   "metadata": {},
   "source": [
    "<h3 align=center>ALUMNO: David Jiménez Vicente</h3>"
   ]
  },
  {
   "cell_type": "markdown",
   "id": "6d707d19-1113-4f93-adcf-b4691637ce64",
   "metadata": {},
   "source": [
    " <h2 align=center>Notebook 3 : Modelado y Métricas</h2>"
   ]
  },
  {
   "cell_type": "markdown",
   "id": "3004895d-5663-445f-b147-501b42af5312",
   "metadata": {},
   "source": [
    "En este notebook vamos a realizar dos modelos.  \n",
    "No separaré las métricas de los modelos en dos diferentes notebooks, ya que tiene mucho más sentido mostrar el modelo y sus métricas inmediatamente.  \n",
    "· El primero será un modelo de ML que estará basado en extracción de features de palabras únicas con vectorizador TD-IDF para crear el Bag-Of-Words.  \n",
    "· El segundo será un modelo neuronal basado en extracción de features usando embeddings con contexto."
   ]
  },
  {
   "cell_type": "markdown",
   "id": "b794659b-6c8c-46d4-b040-f0f7d700bbfc",
   "metadata": {},
   "source": [
    "<h2 align=center><i>Modelo 1: Modelo de Machine Learning</i></h2>"
   ]
  },
  {
   "cell_type": "markdown",
   "id": "c7a330d0-9d7b-4ed1-9d60-bfb9ea779116",
   "metadata": {},
   "source": [
    "Importamos las librerías:"
   ]
  },
  {
   "cell_type": "code",
   "execution_count": 7,
   "id": "d3f918e2-9e9a-467b-add5-12cd9588ebbf",
   "metadata": {},
   "outputs": [],
   "source": [
    "# Para los datos\n",
    "import json\n",
    "import pandas as pd\n",
    "import numpy as np\n",
    "import random\n",
    "\n",
    "# Para dibujo\n",
    "import matplotlib.pyplot as plt\n",
    "import seaborn as sns\n",
    "\n",
    "# Para el BOW\n",
    "from sklearn import model_selection, naive_bayes, manifold, preprocessing\n",
    "from sklearn.feature_extraction.text import TfidfVectorizer\n",
    "\n",
    "# Para el modelo\n",
    "from sklearn.model_selection import train_test_split\n",
    "from sklearn.pipeline import Pipeline\n",
    "from sklearn.linear_model import LogisticRegression\n",
    "from sklearn import naive_bayes\n",
    "\n",
    "\n",
    "# Evaluación\n",
    "from sklearn.feature_selection import chi2\n",
    "from sklearn.metrics import accuracy_score, confusion_matrix, classification_report, roc_curve, precision_recall_curve\n",
    "\n",
    "# Para los embeddings\n",
    "import gensim\n",
    "import gensim.downloader as gensim_api\n",
    "\n",
    "# Para DL\n",
    "from tensorflow.keras import models, layers, preprocessing as kprocessing\n",
    "from tensorflow.keras import backend as K\n",
    "\n",
    "# Para Bert\n",
    "import transformers"
   ]
  },
  {
   "cell_type": "markdown",
   "id": "6fd33f85-bcdc-4121-9a9c-bfa357fb800f",
   "metadata": {},
   "source": [
    "Primero importamos las features y los targets."
   ]
  },
  {
   "cell_type": "code",
   "execution_count": 8,
   "id": "9b10e5b9-7416-467f-aacb-3f0e3625ff29",
   "metadata": {},
   "outputs": [],
   "source": [
    "features = pd.read_csv(\"features.csv\")\n",
    "targets = pd.read_csv(\"targets.csv\")"
   ]
  },
  {
   "cell_type": "code",
   "execution_count": 3,
   "id": "00391484-d397-413d-9923-d7d40e97256c",
   "metadata": {},
   "outputs": [
    {
     "data": {
      "text/plain": [
       "((199985, 1), (199985, 1))"
      ]
     },
     "execution_count": 3,
     "metadata": {},
     "output_type": "execute_result"
    }
   ],
   "source": [
    "features.shape, targets.shape"
   ]
  },
  {
   "cell_type": "code",
   "execution_count": 4,
   "id": "7d7bd40d-31cf-4e3f-9b6d-479a2507c74e",
   "metadata": {
    "tags": []
   },
   "outputs": [
    {
     "name": "stdout",
     "output_type": "stream",
     "text": [
      "<class 'pandas.core.frame.DataFrame'>\n",
      "RangeIndex: 199985 entries, 0 to 199984\n",
      "Data columns (total 1 columns):\n",
      " #   Column  Non-Null Count   Dtype \n",
      "---  ------  --------------   ----- \n",
      " 0   review  199985 non-null  object\n",
      "dtypes: object(1)\n",
      "memory usage: 1.5+ MB\n"
     ]
    }
   ],
   "source": [
    "features.info()"
   ]
  },
  {
   "cell_type": "markdown",
   "id": "a85b7a42-7a06-4809-beb5-2f6d1af2cffb",
   "metadata": {},
   "source": [
    "Hay "
   ]
  },
  {
   "cell_type": "code",
   "execution_count": 5,
   "id": "1517aadb-a89e-4e3a-8d17-51feac405477",
   "metadata": {
    "tags": []
   },
   "outputs": [],
   "source": [
    "X_train, X_test, y_train, y_test = train_test_split(\n",
    "    features.review,\n",
    "    targets.sent,\n",
    "    train_size=0.75,\n",
    "    test_size=0.25,\n",
    "    random_state=42,\n",
    "    shuffle=True\n",
    ")"
   ]
  },
  {
   "cell_type": "code",
   "execution_count": 6,
   "id": "afd988c9-1ccd-40c6-905f-26ea092f2c55",
   "metadata": {
    "tags": []
   },
   "outputs": [
    {
     "data": {
      "text/plain": [
       "((149988,), (49997,), (149988,), (49997,))"
      ]
     },
     "execution_count": 6,
     "metadata": {},
     "output_type": "execute_result"
    }
   ],
   "source": [
    "X_train.shape, X_test.shape, y_train.shape, y_test.shape"
   ]
  },
  {
   "cell_type": "code",
   "execution_count": 7,
   "id": "d3fef1c8-5878-48b8-9a68-e20ae11adc82",
   "metadata": {
    "tags": []
   },
   "outputs": [
    {
     "name": "stdout",
     "output_type": "stream",
     "text": [
      "<class 'pandas.core.series.Series'>\n",
      "Index: 149988 entries, 102672 to 121958\n",
      "Series name: review\n",
      "Non-Null Count   Dtype \n",
      "--------------   ----- \n",
      "149988 non-null  object\n",
      "dtypes: object(1)\n",
      "memory usage: 2.3+ MB\n"
     ]
    }
   ],
   "source": [
    "X_train.info()"
   ]
  },
  {
   "cell_type": "code",
   "execution_count": 8,
   "id": "b7f2f963-3863-4f53-8925-9548e1905dcf",
   "metadata": {
    "tags": []
   },
   "outputs": [
    {
     "data": {
      "text/plain": [
       "102672                       bad perfect either three stars\n",
       "89838     give kit two stars based experience experience...\n",
       "130911    good fit finish hard first glorious notes came...\n",
       "26836     know good latency monitoring great good go 48k...\n",
       "122379    like thr good back zippered one thatvwas recei...\n",
       "85052     five stars board sounds ability create save fa...\n",
       "52472     poor packaging ordered two cabinets one notice...\n",
       "141228                                     great five stars\n",
       "164332    cello take week bridge break called paid forty...\n",
       "63430     works great dimmed darker rooms custom gobo li...\n",
       "Name: review, dtype: object"
      ]
     },
     "execution_count": 8,
     "metadata": {},
     "output_type": "execute_result"
    }
   ],
   "source": [
    "X_train.iloc[:10]"
   ]
  },
  {
   "cell_type": "code",
   "execution_count": 9,
   "id": "34a9d2c7-668a-4781-9d14-df7e448e4335",
   "metadata": {
    "tags": []
   },
   "outputs": [
    {
     "data": {
      "text/plain": [
       "102672    0\n",
       "89838     0\n",
       "130911    1\n",
       "26836     0\n",
       "122379    1\n",
       "85052     0\n",
       "52472     1\n",
       "141228    1\n",
       "164332    0\n",
       "63430     1\n",
       "Name: sent, dtype: int64"
      ]
     },
     "execution_count": 9,
     "metadata": {},
     "output_type": "execute_result"
    }
   ],
   "source": [
    "y_train.iloc[:10]"
   ]
  },
  {
   "cell_type": "code",
   "execution_count": 10,
   "id": "2236fdf3-b9f6-41ce-99c6-dd6e1c3b73a3",
   "metadata": {
    "tags": []
   },
   "outputs": [
    {
     "name": "stdout",
     "output_type": "stream",
     "text": [
      "La longitud máxima de las valoraciones es de 13 palabras.\n"
     ]
    }
   ],
   "source": [
    "max_len = 0\n",
    "for i,z in X_train.items():\n",
    "    if len(z) > max_len:\n",
    "        max_len = len(z.split())\n",
    "        \n",
    "print(f\"La longitud máxima de las valoraciones es de {max_len} palabras.\")"
   ]
  },
  {
   "cell_type": "markdown",
   "id": "76efcc09-cd5b-40df-a995-a54a3da0583c",
   "metadata": {},
   "source": [
    "### *Extracción de features con TD-IDF*"
   ]
  },
  {
   "cell_type": "markdown",
   "id": "b4bebc88-2ace-464d-b59b-27fb51e0f2c0",
   "metadata": {},
   "source": [
    "Usaré un pequeño max_df ya que hemos hecho un preprocesado específico, y un ngram_range de 2 y 3 gramas, ya que hemos visto que en grupos de trigramas se revela mucho el contexto."
   ]
  },
  {
   "cell_type": "code",
   "execution_count": 48,
   "id": "0e359775-aaec-4589-b7fa-d7d74ece206a",
   "metadata": {
    "tags": []
   },
   "outputs": [
    {
     "name": "stdout",
     "output_type": "stream",
     "text": [
      "<class 'pandas.core.series.Series'>\n",
      "Index: 149988 entries, 102672 to 121958\n",
      "Series name: review\n",
      "Non-Null Count   Dtype \n",
      "--------------   ----- \n",
      "149988 non-null  object\n",
      "dtypes: object(1)\n",
      "memory usage: 2.3+ MB\n"
     ]
    }
   ],
   "source": [
    "X_train.info()"
   ]
  },
  {
   "cell_type": "code",
   "execution_count": 49,
   "id": "9b351425-9453-4416-a703-e596ac8e9351",
   "metadata": {
    "tags": []
   },
   "outputs": [
    {
     "data": {
      "text/html": [
       "<style>#sk-container-id-2 {color: black;}#sk-container-id-2 pre{padding: 0;}#sk-container-id-2 div.sk-toggleable {background-color: white;}#sk-container-id-2 label.sk-toggleable__label {cursor: pointer;display: block;width: 100%;margin-bottom: 0;padding: 0.3em;box-sizing: border-box;text-align: center;}#sk-container-id-2 label.sk-toggleable__label-arrow:before {content: \"▸\";float: left;margin-right: 0.25em;color: #696969;}#sk-container-id-2 label.sk-toggleable__label-arrow:hover:before {color: black;}#sk-container-id-2 div.sk-estimator:hover label.sk-toggleable__label-arrow:before {color: black;}#sk-container-id-2 div.sk-toggleable__content {max-height: 0;max-width: 0;overflow: hidden;text-align: left;background-color: #f0f8ff;}#sk-container-id-2 div.sk-toggleable__content pre {margin: 0.2em;color: black;border-radius: 0.25em;background-color: #f0f8ff;}#sk-container-id-2 input.sk-toggleable__control:checked~div.sk-toggleable__content {max-height: 200px;max-width: 100%;overflow: auto;}#sk-container-id-2 input.sk-toggleable__control:checked~label.sk-toggleable__label-arrow:before {content: \"▾\";}#sk-container-id-2 div.sk-estimator input.sk-toggleable__control:checked~label.sk-toggleable__label {background-color: #d4ebff;}#sk-container-id-2 div.sk-label input.sk-toggleable__control:checked~label.sk-toggleable__label {background-color: #d4ebff;}#sk-container-id-2 input.sk-hidden--visually {border: 0;clip: rect(1px 1px 1px 1px);clip: rect(1px, 1px, 1px, 1px);height: 1px;margin: -1px;overflow: hidden;padding: 0;position: absolute;width: 1px;}#sk-container-id-2 div.sk-estimator {font-family: monospace;background-color: #f0f8ff;border: 1px dotted black;border-radius: 0.25em;box-sizing: border-box;margin-bottom: 0.5em;}#sk-container-id-2 div.sk-estimator:hover {background-color: #d4ebff;}#sk-container-id-2 div.sk-parallel-item::after {content: \"\";width: 100%;border-bottom: 1px solid gray;flex-grow: 1;}#sk-container-id-2 div.sk-label:hover label.sk-toggleable__label {background-color: #d4ebff;}#sk-container-id-2 div.sk-serial::before {content: \"\";position: absolute;border-left: 1px solid gray;box-sizing: border-box;top: 0;bottom: 0;left: 50%;z-index: 0;}#sk-container-id-2 div.sk-serial {display: flex;flex-direction: column;align-items: center;background-color: white;padding-right: 0.2em;padding-left: 0.2em;position: relative;}#sk-container-id-2 div.sk-item {position: relative;z-index: 1;}#sk-container-id-2 div.sk-parallel {display: flex;align-items: stretch;justify-content: center;background-color: white;position: relative;}#sk-container-id-2 div.sk-item::before, #sk-container-id-2 div.sk-parallel-item::before {content: \"\";position: absolute;border-left: 1px solid gray;box-sizing: border-box;top: 0;bottom: 0;left: 50%;z-index: -1;}#sk-container-id-2 div.sk-parallel-item {display: flex;flex-direction: column;z-index: 1;position: relative;background-color: white;}#sk-container-id-2 div.sk-parallel-item:first-child::after {align-self: flex-end;width: 50%;}#sk-container-id-2 div.sk-parallel-item:last-child::after {align-self: flex-start;width: 50%;}#sk-container-id-2 div.sk-parallel-item:only-child::after {width: 0;}#sk-container-id-2 div.sk-dashed-wrapped {border: 1px dashed gray;margin: 0 0.4em 0.5em 0.4em;box-sizing: border-box;padding-bottom: 0.4em;background-color: white;}#sk-container-id-2 div.sk-label label {font-family: monospace;font-weight: bold;display: inline-block;line-height: 1.2em;}#sk-container-id-2 div.sk-label-container {text-align: center;}#sk-container-id-2 div.sk-container {/* jupyter's `normalize.less` sets `[hidden] { display: none; }` but bootstrap.min.css set `[hidden] { display: none !important; }` so we also need the `!important` here to be able to override the default hidden behavior on the sphinx rendered scikit-learn.org. See: https://github.com/scikit-learn/scikit-learn/issues/21755 */display: inline-block !important;position: relative;}#sk-container-id-2 div.sk-text-repr-fallback {display: none;}</style><div id=\"sk-container-id-2\" class=\"sk-top-container\"><div class=\"sk-text-repr-fallback\"><pre>TfidfVectorizer(max_df=0.95, max_features=5000, min_df=3, ngram_range=(2, 3),\n",
       "                strip_accents=&#x27;ascii&#x27;)</pre><b>In a Jupyter environment, please rerun this cell to show the HTML representation or trust the notebook. <br />On GitHub, the HTML representation is unable to render, please try loading this page with nbviewer.org.</b></div><div class=\"sk-container\" hidden><div class=\"sk-item\"><div class=\"sk-estimator sk-toggleable\"><input class=\"sk-toggleable__control sk-hidden--visually\" id=\"sk-estimator-id-2\" type=\"checkbox\" checked><label for=\"sk-estimator-id-2\" class=\"sk-toggleable__label sk-toggleable__label-arrow\">TfidfVectorizer</label><div class=\"sk-toggleable__content\"><pre>TfidfVectorizer(max_df=0.95, max_features=5000, min_df=3, ngram_range=(2, 3),\n",
       "                strip_accents=&#x27;ascii&#x27;)</pre></div></div></div></div></div>"
      ],
      "text/plain": [
       "TfidfVectorizer(max_df=0.95, max_features=5000, min_df=3, ngram_range=(2, 3),\n",
       "                strip_accents='ascii')"
      ]
     },
     "execution_count": 49,
     "metadata": {},
     "output_type": "execute_result"
    }
   ],
   "source": [
    "bow1 = TfidfVectorizer(\n",
    "    max_df=0.95,\n",
    "    min_df=3,\n",
    "    max_features=5000,\n",
    "    strip_accents='ascii',\n",
    "    ngram_range=(2, 3)\n",
    ")\n",
    "bow1.fit(X_train)"
   ]
  },
  {
   "cell_type": "markdown",
   "id": "0ca654f8-b16e-4088-a93e-5345c82dd807",
   "metadata": {},
   "source": [
    "Veamos el vocabulario extraído por el TD-IDF:"
   ]
  },
  {
   "cell_type": "code",
   "execution_count": 50,
   "id": "46d6fe52-349b-414a-9b60-64f95c3a560a",
   "metadata": {},
   "outputs": [
    {
     "name": "stdout",
     "output_type": "stream",
     "text": [
      "[('three stars', 4222), ('two stars', 4460), ('hi hat', 1837), ('ride cymbal', 3550), ('feel right', 1035), ('get decent', 1309), ('would give', 4884), ('give four', 1390), ('quality control', 3359), ('good fit', 1482), ('fit finish', 1136), ('came great', 453), ('great well', 1773), ('know good', 2005), ('great good', 1655), ('good go', 1488), ('two inputs', 4432), ('left right', 2047), ('take care', 4078), ('since two', 3721)]\n"
     ]
    }
   ],
   "source": [
    "print(list(bow1.vocabulary_.items())[:20])"
   ]
  },
  {
   "cell_type": "code",
   "execution_count": 51,
   "id": "db59b880-c59c-48d9-99c7-8c36dfc635aa",
   "metadata": {
    "tags": []
   },
   "outputs": [
    {
     "name": "stdout",
     "output_type": "stream",
     "text": [
      "5000\n"
     ]
    }
   ],
   "source": [
    "print(len(bow1.vocabulary_))"
   ]
  },
  {
   "cell_type": "markdown",
   "id": "49ffc055-5391-45ee-9c14-67edadf9cea6",
   "metadata": {},
   "source": [
    "### *Puntuamos los features con el TF-IDF*"
   ]
  },
  {
   "cell_type": "code",
   "execution_count": 52,
   "id": "d9891a3e-4fe7-4f28-86c2-aab65d8326fe",
   "metadata": {
    "tags": []
   },
   "outputs": [],
   "source": [
    "X_train_ = bow1.transform(X_train)\n",
    "X_test_ = bow1.transform(X_test)"
   ]
  },
  {
   "cell_type": "markdown",
   "id": "e6a8fbeb-3153-48ce-9b84-b961e92f886e",
   "metadata": {},
   "source": [
    "Comprobamos unas palabras de ejemplo:"
   ]
  },
  {
   "cell_type": "code",
   "execution_count": 53,
   "id": "202edf09-e457-4d52-b71e-212c179996ca",
   "metadata": {
    "tags": []
   },
   "outputs": [
    {
     "name": "stdout",
     "output_type": "stream",
     "text": [
      "PALABRA             IDF                 \n",
      "total waste         8.131\n",
      "good                OOV                 \n",
      "bad                 OOV                 \n",
      "excellent           OOV                 \n",
      "broke               OOV                 \n",
      "five stars          3.060\n",
      "guitar              OOV                 \n"
     ]
    }
   ],
   "source": [
    "ejemplo = [\"total waste\", \"good\", \"bad\", \"excellent\", \"broke\", \"five stars\", \"guitar\"]\n",
    "\n",
    "vocab_idf = dict(zip(bow1.get_feature_names_out(), bow1.idf_))\n",
    "\n",
    "print('{0:20}{1:20}'.format('PALABRA', 'IDF'))\n",
    "for word in ejemplo:\n",
    "    if word not in vocab_idf:\n",
    "        print('{0:20}{1:20}'.format(word, 'OOV'))\n",
    "    else:\n",
    "        print('{0:20}{1:2.3f}'.format(word, vocab_idf[word]))"
   ]
  },
  {
   "cell_type": "markdown",
   "id": "a18dae16-25e8-46d4-a9a6-fe4b363fbe75",
   "metadata": {},
   "source": [
    "Echemos un ojo al vocabulario y sus pesos:"
   ]
  },
  {
   "cell_type": "code",
   "execution_count": 54,
   "id": "dbe4be72-95ad-44db-aa35-f12aa0ff69d8",
   "metadata": {
    "tags": []
   },
   "outputs": [
    {
     "name": "stdout",
     "output_type": "stream",
     "text": [
      "12th fret   8.66982199500668\n",
      "2nd one   8.775182510664507\n",
      "3rd party   9.047116226148148\n",
      "48v phantom   9.134127603137777\n",
      "9v battery   8.375022454786034\n",
      "aa batteries   8.627857795907648\n",
      "able find   8.375022454786034\n",
      "able get   7.026673025230268\n",
      "able get work   9.047116226148148\n",
      "able hear   8.713624617665072\n",
      "able hold   9.089675840566944\n",
      "able make   8.600829123519729\n",
      "able put   8.967073518474612\n",
      "able return   9.026496938945412\n",
      "able tune   8.857874226509619\n",
      "ableton live   8.561608410366446\n",
      "absolute garbage   8.655637360014723\n",
      "absolute junk   9.089675840566944\n",
      "absolutely amazing   9.006294231627892\n",
      "absolutely beautiful   8.627857795907648\n",
      "absolutely love   7.441853685124529\n",
      "absolutely loved   9.089675840566944\n",
      "absolutely loves   8.164727045949675\n",
      "absolutely nothing   8.967073518474612\n",
      "absolutely perfect   9.11165474728572\n",
      "ac adapter   7.907681942959783\n",
      "ac power   8.574511815202357\n",
      "acoustic bass   8.600829123519729\n",
      "acoustic electric   7.175314049246556\n",
      "acoustic electric guitars   9.068169635345981\n"
     ]
    }
   ],
   "source": [
    "for i in list(vocab_idf)[:30]:\n",
    "    print(i, \" \", vocab_idf[i])"
   ]
  },
  {
   "cell_type": "markdown",
   "id": "86da3aec-156e-4141-bd4c-22b5fd13c775",
   "metadata": {},
   "source": [
    "Veamos ahora las palabras con mayor y menor TD-IDF en una review de ejemplo:"
   ]
  },
  {
   "cell_type": "code",
   "execution_count": 55,
   "id": "40f77348-7156-4f59-b0b0-db807eb488b6",
   "metadata": {
    "tags": []
   },
   "outputs": [
    {
     "name": "stdout",
     "output_type": "stream",
     "text": [
      "ID: 118609\n",
      "Sentiment: 0\n",
      "Review: strings make acoustic terrible im taking soon possible would never terrible\n"
     ]
    }
   ],
   "source": [
    "i = random.randint(0, len(X_train))\n",
    "print('ID: {}'.format(i))\n",
    "print('Sentiment: {}'.format(y_train.iloc[i]))\n",
    "print('Review: {}'.format(X_train.iloc[i]))\n"
   ]
  },
  {
   "cell_type": "code",
   "execution_count": 72,
   "id": "d9a100f3-92bb-463f-877c-c313a1c77bea",
   "metadata": {
    "tags": []
   },
   "outputs": [
    {
     "name": "stdout",
     "output_type": "stream",
     "text": [
      "Top 3 words with highest TF_IDF in the review 121958:\n",
      "                     tfidf\n",
      "nice price        0.601940\n",
      "price five stars  0.537487\n",
      "price five        0.533995\n",
      "\n",
      "Top 3 words with lowest TF_IDF in the review 121958:\n",
      "                     tfidf\n",
      "price five stars  0.537487\n",
      "price five        0.533995\n",
      "five stars        0.252240\n"
     ]
    }
   ],
   "source": [
    "doc_vector = X_train_[i]\n",
    "df_tfidf = pd.DataFrame(doc_vector.T.todense(), index=bow1.get_feature_names_out(), columns=['tfidf'])\n",
    "df_tfidf = df_tfidf[df_tfidf['tfidf'] > 0]\n",
    "\n",
    "top_n = 3\n",
    "print('Top {} words with highest TF_IDF in the review {}:\\n{}'\n",
    "      .format(top_n, i, df_tfidf.sort_values(by=[\"tfidf\"],ascending=False)[:top_n]))\n",
    "print('\\nTop {} words with lowest TF_IDF in the review {}:\\n{}'\n",
    "      .format(top_n, i, df_tfidf.sort_values(by=[\"tfidf\"],ascending=False)[-top_n:]))"
   ]
  },
  {
   "cell_type": "markdown",
   "id": "1772deaf-1307-4a13-99ba-92ff8653f3e8",
   "metadata": {},
   "source": [
    "Calculemos la puntuación Chi Squared del top 15"
   ]
  },
  {
   "cell_type": "code",
   "execution_count": 73,
   "id": "1b8035e8-4a6f-453b-81ed-d531e4c415ac",
   "metadata": {
    "tags": []
   },
   "outputs": [
    {
     "data": {
      "image/png": "[encoded data removed]",
      "text/plain": [
       "<Figure size 1200x800 with 1 Axes>"
      ]
     },
     "metadata": {},
     "output_type": "display_data"
    }
   ],
   "source": [
    "# Compute the chi-squared score for each word in the training set and show the values\n",
    "i=15\n",
    "\n",
    "chi2score = chi2(X_train_, y_train)[0]\n",
    "scores = list(zip(bow1.get_feature_names_out(), chi2score))\n",
    "sorted_scores = sorted(scores, key=lambda x:x[1])\n",
    "topchi2 = list(zip(*sorted_scores[-i:]))\n",
    "x = range(len(topchi2[1]))\n",
    "labels = topchi2[0]\n",
    "\n",
    "plt.figure(figsize=(12, 8))\n",
    "plt.barh(x,topchi2[1], align='center', alpha=0.5)\n",
    "plt.plot(topchi2[1], x, '-o', markersize=5, alpha=0.8)\n",
    "plt.yticks(x, labels, fontsize=12)\n",
    "plt.xlabel('$\\chi^2$', fontsize=26)\n",
    "plt.ylabel('Bi-grama', fontsize=16)\n",
    "plt.title('Top {} $\\chi^2$ score para los bigramas en el set de training'.format(i), fontsize=15)\n",
    "plt.grid()\n",
    "plt.tight_layout()\n",
    "plt.show();"
   ]
  },
  {
   "cell_type": "markdown",
   "id": "219fab2e-94f5-44a1-9f6e-06b51f93b4c1",
   "metadata": {},
   "source": [
    "· Aquí afirmamos lo que intuíamos en el EDA al principio. El corpus tiene mucho más sentimiento positivo en general y los clientes lo refelejan de diversas maneras, como se ve por sus dependencias altas entre los bigramas y sus etiquetas.  \n",
    "· Los clientes que tienen motivación para emitir una review cualquiera, además de marcar las estrellas en el selector pulsando sobre ellas, también lo escriben con el teclado para reafirmar dicha opinión.  \n",
    "· Además de usar las estrellas, mayormente los clientes usan los términos \"funciona genial\" y \"altamente recomendable\" para opiniones positivas más allá del número de estrellas, o \"no funciona\", \"mala calidad\" y \"no gastes dinero\" para las opiniones negativas."
   ]
  },
  {
   "cell_type": "markdown",
   "id": "9946ef3b-ed7c-4f42-b648-77fbb6de4201",
   "metadata": {},
   "source": [
    "### *Entrenamiento y evaluación del modelo*"
   ]
  },
  {
   "cell_type": "markdown",
   "id": "a895634a-3794-467b-be55-2497a078f2b8",
   "metadata": {},
   "source": [
    "Vamos a usar un modelo de Regresión Logística, que da salida de clasificación y no de valores continuos."
   ]
  },
  {
   "cell_type": "code",
   "execution_count": 58,
   "id": "4004989c-1f6a-4ddc-af34-190202b6c0d1",
   "metadata": {
    "tags": []
   },
   "outputs": [
    {
     "name": "stdout",
     "output_type": "stream",
     "text": [
      "Train ccuracy for C=0.01: 0.8004307011227565\n",
      "Test ccuracy for C=0.01: 0.7950077004620277\n",
      "\n",
      "Train ccuracy for C=0.05: 0.8359002053497613\n",
      "Test ccuracy for C=0.05: 0.8269096145768746\n",
      "\n",
      "Train ccuracy for C=0.25: 0.8485745526308771\n",
      "Test ccuracy for C=0.25: 0.8363701822109326\n",
      "\n",
      "Train ccuracy for C=0.5: 0.8514147798490546\n",
      "Test ccuracy for C=0.5: 0.8369302158129488\n",
      "\n",
      "Train ccuracy for C=1: 0.852881563858442\n",
      "Test ccuracy for C=1: 0.8371302278136689\n",
      "\n",
      "Train ccuracy for C=10: 0.8545950342694082\n",
      "Test ccuracy for C=10: 0.8363701822109326\n",
      "\n",
      "Train ccuracy for C=100: 0.8545883670693656\n",
      "Test ccuracy for C=100: 0.8351701102066124\n",
      "\n",
      "Train ccuracy for C=1000: 0.8545416966690669\n",
      "Test ccuracy for C=1000: 0.8351101066063964\n",
      "\n",
      "Train ccuracy for C=10000: 0.8545816998693229\n",
      "Test ccuracy for C=10000: 0.8350101006060363\n",
      "\n"
     ]
    }
   ],
   "source": [
    "# Vamos a usar una búsqueda de grid iterando sobre el parámetro de regularización \"c\"\n",
    "c_params = [0.01, 0.05, 0.25, 0.5, 1, 10, 100, 1000, 10000]\n",
    "x_ticks = [str(i) for i in c_params ]\n",
    "\n",
    "train_acc = list()\n",
    "test_acc = list()\n",
    "for c in c_params:\n",
    "    lr = LogisticRegression(C=c, solver='lbfgs', max_iter=2000)\n",
    "    lr.fit(X_train_, y_train)\n",
    "\n",
    "    y_train_predict = lr.predict(X_train_)\n",
    "    y_test_predict = lr.predict(X_test_)\n",
    "\n",
    "    print (\"Train ccuracy for C={}: {}\".format(c, accuracy_score(y_train, y_train_predict)))\n",
    "    print (\"Test ccuracy for C={}: {}\\n\".format(c, accuracy_score(y_test, y_test_predict)))\n",
    "\n",
    "    train_acc.append(accuracy_score(y_train, y_train_predict))\n",
    "    test_acc.append(accuracy_score(y_test, y_test_predict))"
   ]
  },
  {
   "cell_type": "code",
   "execution_count": 59,
   "id": "31cbeec7-b656-4a53-a848-fc52916d2111",
   "metadata": {
    "tags": []
   },
   "outputs": [
    {
     "data": {
      "text/plain": [
       "['0.01', '0.05', '0.25', '0.5', '1', '10', '100', '1000', '10000']"
      ]
     },
     "execution_count": 59,
     "metadata": {},
     "output_type": "execute_result"
    }
   ],
   "source": [
    "x_ticks"
   ]
  },
  {
   "cell_type": "markdown",
   "id": "b63c2f98-3fc3-4554-a875-37d52bb54110",
   "metadata": {},
   "source": [
    "Observamos que el mejor accuracy en generalización lo tenemos al no usar regularización (c=1), aunque tampoco es una diferencia excesiva."
   ]
  },
  {
   "cell_type": "code",
   "execution_count": 60,
   "id": "62a81655-996b-445a-aeed-a23fdd39cdd2",
   "metadata": {
    "tags": []
   },
   "outputs": [
    {
     "data": {
      "image/png": "[encoded data removed]",
      "text/plain": [
       "<Figure size 640x480 with 1 Axes>"
      ]
     },
     "metadata": {},
     "output_type": "display_data"
    }
   ],
   "source": [
    "plt.plot(train_acc, c=\"b\")\n",
    "plt.plot(test_acc, c=\"g\")\n",
    "plt.legend([\"train_acc\", \"test_acc\"])\n",
    "plt.xticks(ticks=range(0,9,1) ,labels=x_ticks)\n",
    "plt.xlabel(\"Valores del parámetro c\")\n",
    "plt.ylabel(\"Accuracies\")\n",
    "plt.show()"
   ]
  },
  {
   "cell_type": "markdown",
   "id": "3e54ac71-424d-4876-85fd-e3b3f8abfd52",
   "metadata": {},
   "source": [
    "Ahora veremos la matriz de confusión de las predicciones."
   ]
  },
  {
   "cell_type": "code",
   "execution_count": 61,
   "id": "53bcac88-43fa-4481-8faa-6ed255b9364a",
   "metadata": {
    "tags": []
   },
   "outputs": [
    {
     "name": "stdout",
     "output_type": "stream",
     "text": [
      "Confussion matrix:\n",
      "[[21699  3314]\n",
      " [ 4935 20049]]\n",
      "\n",
      "Classification report:\n",
      "              precision    recall  f1-score   support\n",
      "\n",
      "           0       0.81      0.87      0.84     25013\n",
      "           1       0.86      0.80      0.83     24984\n",
      "\n",
      "    accuracy                           0.84     49997\n",
      "   macro avg       0.84      0.83      0.83     49997\n",
      "weighted avg       0.84      0.84      0.83     49997\n",
      "\n",
      "Accuracy score:0.8350101006060363\n"
     ]
    }
   ],
   "source": [
    "print('Confussion matrix:\\n{}'.format(confusion_matrix(y_test, y_test_predict)))\n",
    "print('\\nClassification report:\\n{}'.format(classification_report(y_test, y_test_predict)))\n",
    "print('Accuracy score:{}'.format(accuracy_score(y_test, y_test_predict)))\n"
   ]
  },
  {
   "cell_type": "markdown",
   "id": "0759c7ef-87df-4a17-81c3-b692587da8f7",
   "metadata": {},
   "source": [
    "Aunque el modelo es mejor con las predicciones del sentimiento positivo, es mejor capturando las negativas en el dataset."
   ]
  },
  {
   "cell_type": "markdown",
   "id": "8bd5b513-14e7-4328-89c6-22ed6a6300cb",
   "metadata": {},
   "source": [
    "Por último revisaremos la evolución de las métricas de Precission+Recall"
   ]
  },
  {
   "cell_type": "code",
   "execution_count": 62,
   "id": "3bb04e17-600a-4a93-9a81-71de152e6cb4",
   "metadata": {},
   "outputs": [],
   "source": [
    "p, r, thresholds = precision_recall_curve(y_test, y_test_predict)"
   ]
  },
  {
   "cell_type": "code",
   "execution_count": 63,
   "id": "d7405cf3-73a0-4998-883b-0095f78e19a4",
   "metadata": {},
   "outputs": [],
   "source": [
    "def plot_precision_recall_vs_threshold(precisions, recalls, thresholds):\n",
    "    plt.figure(figsize=(8, 8))\n",
    "    plt.title(\"Funciones de Precision y Recall\")\n",
    "    plt.plot(thresholds, precisions[:-1], \"b--\", label=\"Precision\")\n",
    "    plt.plot(thresholds, recalls[:-1], \"g-\", label=\"Recall\")\n",
    "    plt.ylabel(\"Score\")\n",
    "    plt.xlabel(\"Decision Threshold\")\n",
    "    plt.legend(loc='best')"
   ]
  },
  {
   "cell_type": "code",
   "execution_count": 64,
   "id": "73cfef42-f22a-4071-b471-2db99376612a",
   "metadata": {
    "tags": []
   },
   "outputs": [
    {
     "data": {
      "image/png": "[encoded data removed]",
      "text/plain": [
       "<Figure size 800x800 with 1 Axes>"
      ]
     },
     "metadata": {},
     "output_type": "display_data"
    }
   ],
   "source": [
    "plot_precision_recall_vs_threshold(p, r, thresholds)"
   ]
  },
  {
   "cell_type": "markdown",
   "id": "1f2334c2-2d9d-4cdb-aa9e-38bac8e4a7dd",
   "metadata": {},
   "source": [
    "Veamos cómo se traduce esto con algunos ejemplos entre etiquetas reales y predichas."
   ]
  },
  {
   "cell_type": "code",
   "execution_count": 65,
   "id": "8ba5f821-f9a7-4339-be29-0a6f9cc174f5",
   "metadata": {
    "tags": []
   },
   "outputs": [],
   "source": [
    "def predict_review_sentiment(review_index, model):\n",
    "    print('Actual sentiment: {}'.format(targets.iloc[review_index]['sent']))\n",
    "    r = features.iloc[review_index]['review']\n",
    "    print('Prediction: {}'.format(lr.predict(bow1.transform([r]))))"
   ]
  },
  {
   "cell_type": "code",
   "execution_count": 66,
   "id": "d72ad0df-4c0b-4042-a75c-316dbfc01565",
   "metadata": {
    "tags": []
   },
   "outputs": [
    {
     "name": "stdout",
     "output_type": "stream",
     "text": [
      "\n",
      "Review no. 20022\n",
      "Actual sentiment: 1\n",
      "Prediction: [1]\n",
      "\n",
      "Review no. 174613\n",
      "Actual sentiment: 1\n",
      "Prediction: [0]\n",
      "\n",
      "Review no. 89477\n",
      "Actual sentiment: 0\n",
      "Prediction: [0]\n",
      "\n",
      "Review no. 129227\n",
      "Actual sentiment: 0\n",
      "Prediction: [0]\n",
      "\n",
      "Review no. 38699\n",
      "Actual sentiment: 1\n",
      "Prediction: [0]\n"
     ]
    }
   ],
   "source": [
    "for i in random.sample(range(0, len(features)), 5):\n",
    "    print('\\nReview no. {}'.format(i))\n",
    "    predict_review_sentiment(i, lr)"
   ]
  },
  {
   "cell_type": "markdown",
   "id": "feaf5a71-0b85-45bb-937d-0aaebe2b9a7f",
   "metadata": {},
   "source": [
    "---"
   ]
  },
  {
   "cell_type": "markdown",
   "id": "a5139c99-273d-46e6-af98-4dc5044d3293",
   "metadata": {
    "tags": []
   },
   "source": [
    "<h2 align=center><i>Modelo 2: Modelo de Deep Learning</i></h2>"
   ]
  },
  {
   "cell_type": "markdown",
   "id": "f57f3078-918e-465a-98c4-9bd04fc0e136",
   "metadata": {},
   "source": [
    "Usaremos un modelo recursivo LSTM con embeddings obtenidos desde el dataset obtenido usando gensim, sin usar modelo preentrenado."
   ]
  },
  {
   "cell_type": "markdown",
   "id": "944938ef-dbe9-4a0a-8a08-39b61d102f1e",
   "metadata": {},
   "source": [
    "Importamos las librerías:"
   ]
  },
  {
   "cell_type": "code",
   "execution_count": 9,
   "id": "1890cfc1-0066-4543-8d44-b39c745ae1be",
   "metadata": {
    "tags": []
   },
   "outputs": [],
   "source": [
    "import gensim\n",
    "import multiprocessing as mp\n",
    "\n",
    "from tensorflow.keras.preprocessing.text import Tokenizer\n",
    "from tensorflow.keras.preprocessing.sequence import pad_sequences\n",
    "from tensorflow.keras.models import Sequential\n",
    "from tensorflow.keras.layers import (\n",
    "    Dense,\n",
    "    Dropout,\n",
    "    Embedding,\n",
    "    LSTM,\n",
    ")\n",
    "from tensorflow.keras.callbacks import ReduceLROnPlateau, EarlyStopping\n",
    "from sklearn.preprocessing import LabelEncoder\n",
    "from sklearn.model_selection import train_test_split\n"
   ]
  },
  {
   "cell_type": "markdown",
   "id": "203b45b5-ddcd-4930-a571-d96a00783a1c",
   "metadata": {},
   "source": [
    "Reduciremos el dataset a la mitad para evitar sobrecarga de memoria y procesador."
   ]
  },
  {
   "cell_type": "code",
   "execution_count": 68,
   "id": "5368f5ce-bfea-4cbb-8c75-c19c94d6c407",
   "metadata": {
    "tags": []
   },
   "outputs": [],
   "source": [
    "\n",
    "feats_dl = features[:30000]\n",
    "targs_dl = targets[:30000]\n"
   ]
  },
  {
   "cell_type": "markdown",
   "id": "fa30c8a2-b2ab-46cc-a426-43bcaf2f5bec",
   "metadata": {},
   "source": [
    "Agrupamos los parámetros del modelo para modificarlos más fácilmente. Selecciono los adecuados tras varias iteraciones que permitan un tradeoff entre recursos y rendimiento:"
   ]
  },
  {
   "cell_type": "code",
   "execution_count": 31,
   "id": "a84f6a85-eff6-4f25-afd1-6028dc437b62",
   "metadata": {
    "tags": []
   },
   "outputs": [],
   "source": [
    "# Parámetros del WORD2VEC\n",
    "W2V_SIZE = 70 # tamaño de vectores\n",
    "W2V_WINDOW = 7 # número de palabras que va a mirar alrededor\n",
    "# 32\n",
    "W2V_EPOCH = 5 # número de epoca\n",
    "W2V_MIN_COUNT = 2 #número mínimo de frecuencia\n",
    "\n",
    "# KERAS\n",
    "SEQUENCE_LENGTH = 50 # número de secuencias de keras"
   ]
  },
  {
   "cell_type": "markdown",
   "id": "d7be1e27-d346-463f-bf4f-30702eb4572a",
   "metadata": {},
   "source": [
    "Creamos una función para generar los tokens con Keras:"
   ]
  },
  {
   "cell_type": "code",
   "execution_count": 32,
   "id": "454e1e60-d63b-4963-8701-bbc9b2788b04",
   "metadata": {
    "tags": []
   },
   "outputs": [],
   "source": [
    "def generate_tokenizer(train_df):\n",
    "  #generamos un identificador único para cada una de las palabras\n",
    "  #creamos el vocabulario (tenemos palabra y número)\n",
    "    tokenizer = Tokenizer()\n",
    "    tokenizer.fit_on_texts(train_df)\n",
    "    vocab_size = len(tokenizer.word_index) + 1\n",
    "    print(f\"Total words: {vocab_size}\")\n",
    "    return tokenizer, vocab_size"
   ]
  },
  {
   "cell_type": "markdown",
   "id": "0b6a1a46-ce96-4dd3-9ec9-998cf4c8d8e4",
   "metadata": {},
   "source": [
    "Ahora una función para generar los word2vec con gensim:"
   ]
  },
  {
   "cell_type": "code",
   "execution_count": 69,
   "id": "cc4b0c8a-aff7-4ec1-bb43-bf9a52a21550",
   "metadata": {
    "tags": []
   },
   "outputs": [],
   "source": [
    "def generate_word2vec(train_df):\n",
    "  #para cada review la dividimos en tokens (palabras )\n",
    "  #para todos los documentos tiene todas las palabras generamos un identificados único para cada una de las palabras\n",
    "  #generamos el modelo, utilizamos la librería gemsin con los parametros definidos previamente, vocabulario y luego entrenamiento\n",
    "  \n",
    "    documents = [_text.split() for _text in train_df.review]\n",
    "    w2v_model = gensim.models.word2vec.Word2Vec(\n",
    "        vector_size=W2V_SIZE,\n",
    "        window=W2V_WINDOW,\n",
    "        min_count=W2V_MIN_COUNT,\n",
    "        workers=mp.cpu_count(),\n",
    "    )\n",
    "    w2v_model.build_vocab(documents)\n",
    "\n",
    "    words = w2v_model.wv.key_to_index.keys()\n",
    "    vocab_size = len(words)\n",
    "    print(f\"Vocab size: {vocab_size}\")\n",
    "    w2v_model.train(documents, total_examples=len(documents), epochs=W2V_EPOCH)\n",
    "\n",
    "    return w2v_model"
   ]
  },
  {
   "cell_type": "markdown",
   "id": "fa1b4235-0b9e-4d9e-a96c-9311d6ef4852",
   "metadata": {},
   "source": [
    "Ahora creamos una función para generar la capa de los embeddings que le sumaremos al modelo."
   ]
  },
  {
   "cell_type": "code",
   "execution_count": 34,
   "id": "ec80a955-32ea-453a-8b38-e55d36313845",
   "metadata": {
    "tags": []
   },
   "outputs": [],
   "source": [
    "# Generamos la capa de embeddings\n",
    "# El modelo no tiene que hacer el fit de la capa de embeddings, se la damos dada\n",
    "\n",
    "def generate_embedding(word2vec_model, vocab_size, tokenizer):\n",
    "  # generamos un capa de embedding como en el ejemplo anterior con LSTM y GRU pero\n",
    "  # en este caso lo hacemos por separado y guardamos el objeto\n",
    "  # Generamos la matriz de embedding, inicializamos a 0 con el tamaño de  W2V y vocabulario\n",
    "  # Para cada palabra del vocabulario generamos la representación vectorial de w2v\n",
    "  # y se la asignamos a la matriz. De este modo, generamos la matrix de equivalencia\n",
    "    embedding_matrix = np.zeros((vocab_size, W2V_SIZE))\n",
    "    for word, i in tokenizer.word_index.items():\n",
    "        if word in word2vec_model.wv:\n",
    "            embedding_matrix[i] = word2vec_model.wv[word]\n",
    "    return Embedding(\n",
    "        vocab_size,\n",
    "        W2V_SIZE,\n",
    "        weights=[embedding_matrix],\n",
    "        input_length=SEQUENCE_LENGTH,\n",
    "        # Con trainable le indicamos que no se modificar lo que ya viene dentro de esa capa\n",
    "        trainable=False,\n",
    "    )\n",
    "\n",
    "    # Devuelve la capa de embedding"
   ]
  },
  {
   "cell_type": "markdown",
   "id": "6c9eb6fe-7bed-43b4-9082-8073085f33ac",
   "metadata": {},
   "source": [
    "Vamos a hacer el split de los datos"
   ]
  },
  {
   "cell_type": "code",
   "execution_count": 35,
   "id": "d629a2bb-3ff0-41c0-b14f-ed87d41ad645",
   "metadata": {
    "tags": []
   },
   "outputs": [],
   "source": [
    "#Cargamos los datos y hacemos split\n",
    "X_train_index, X_test_index, y_train_index, y_test_index = train_test_split(feats_dl.review, targs_dl.sent, train_size=0.75, random_state=42)"
   ]
  },
  {
   "cell_type": "markdown",
   "id": "fe3c7347-8757-48f4-8970-f4d564a8e5f7",
   "metadata": {},
   "source": [
    "Vamos a realizar la ingesta de los datos ya limpios procedentes del paso anterior:"
   ]
  },
  {
   "cell_type": "code",
   "execution_count": 36,
   "id": "5d634fe5-365b-4568-90d4-eed34712c1b8",
   "metadata": {
    "tags": []
   },
   "outputs": [],
   "source": [
    "#convertimos a palabras. Una lista con cada review (un string único)\n",
    "\n",
    "X_train_words = []\n",
    "for index, example in enumerate(X_train_index):\n",
    "    X_train_words.append(example)"
   ]
  },
  {
   "cell_type": "code",
   "execution_count": 37,
   "id": "5a899978-14da-4c5a-bebf-b8d007c84fbc",
   "metadata": {
    "tags": []
   },
   "outputs": [],
   "source": [
    "X_test_words = []\n",
    "for index, example in enumerate(X_test_index):\n",
    "    X_test_words.append(example)"
   ]
  },
  {
   "cell_type": "markdown",
   "id": "98b68ca3-2532-4780-86a4-4a630a0d65d5",
   "metadata": {},
   "source": [
    "Un ejemplo:"
   ]
  },
  {
   "cell_type": "code",
   "execution_count": 38,
   "id": "fee94518-6df5-47d7-a29f-7ce0b74dd34e",
   "metadata": {
    "tags": []
   },
   "outputs": [
    {
     "data": {
      "text/plain": [
       "'absolute must vo professionals auditions road beginners starting home studio also great pod cast porta booth pro'"
      ]
     },
     "execution_count": 38,
     "metadata": {},
     "output_type": "execute_result"
    }
   ],
   "source": [
    "X_train_words[10]"
   ]
  },
  {
   "cell_type": "code",
   "execution_count": 39,
   "id": "8aef214b-1b8b-4988-a66e-960cc4d94452",
   "metadata": {
    "tags": []
   },
   "outputs": [],
   "source": [
    "\n",
    "X_train_words = pd.DataFrame(X_train_words, columns=[\"review\"])\n",
    "X_test_words = pd.DataFrame(X_test_words, columns=[\"review\"])"
   ]
  },
  {
   "cell_type": "code",
   "execution_count": 40,
   "id": "76f58c93-fb6e-42b4-9e33-27e7985164e9",
   "metadata": {
    "tags": []
   },
   "outputs": [
    {
     "data": {
      "text/html": [
       "<div>\n",
       "<style scoped>\n",
       "    .dataframe tbody tr th:only-of-type {\n",
       "        vertical-align: middle;\n",
       "    }\n",
       "\n",
       "    .dataframe tbody tr th {\n",
       "        vertical-align: top;\n",
       "    }\n",
       "\n",
       "    .dataframe thead th {\n",
       "        text-align: right;\n",
       "    }\n",
       "</style>\n",
       "<table border=\"1\" class=\"dataframe\">\n",
       "  <thead>\n",
       "    <tr style=\"text-align: right;\">\n",
       "      <th></th>\n",
       "      <th>review</th>\n",
       "    </tr>\n",
       "  </thead>\n",
       "  <tbody>\n",
       "    <tr>\n",
       "      <th>0</th>\n",
       "      <td>wonderful five stars</td>\n",
       "    </tr>\n",
       "    <tr>\n",
       "      <th>1</th>\n",
       "      <td>good sent back bc longer needed good</td>\n",
       "    </tr>\n",
       "    <tr>\n",
       "      <th>2</th>\n",
       "      <td>looking something band waste money balls spend...</td>\n",
       "    </tr>\n",
       "    <tr>\n",
       "      <th>3</th>\n",
       "      <td>things tough tremendous punch put 12at7 bugera...</td>\n",
       "    </tr>\n",
       "    <tr>\n",
       "      <th>4</th>\n",
       "      <td>great timing five stars</td>\n",
       "    </tr>\n",
       "  </tbody>\n",
       "</table>\n",
       "</div>"
      ],
      "text/plain": [
       "                                              review\n",
       "0                               wonderful five stars\n",
       "1               good sent back bc longer needed good\n",
       "2  looking something band waste money balls spend...\n",
       "3  things tough tremendous punch put 12at7 bugera...\n",
       "4                            great timing five stars"
      ]
     },
     "execution_count": 40,
     "metadata": {},
     "output_type": "execute_result"
    }
   ],
   "source": [
    "X_train_words.head()"
   ]
  },
  {
   "cell_type": "markdown",
   "id": "b1d8f97e-0d78-429d-b5d3-b9b650d4601f",
   "metadata": {},
   "source": [
    "Ahora vamos a extraer del dataset con la función pre-hecha los tokens:"
   ]
  },
  {
   "cell_type": "code",
   "execution_count": 41,
   "id": "2efa28b3-905c-4eaf-8de3-82229c3a11ab",
   "metadata": {
    "tags": []
   },
   "outputs": [
    {
     "name": "stdout",
     "output_type": "stream",
     "text": [
      "Total words: 23707\n"
     ]
    }
   ],
   "source": [
    "tokenizer, vocab = generate_tokenizer(X_train_words.review)"
   ]
  },
  {
   "cell_type": "markdown",
   "id": "59ee1578-0074-4091-866c-0801e6df618c",
   "metadata": {},
   "source": [
    "Vamos la cardinalidad del vocabulario:"
   ]
  },
  {
   "cell_type": "code",
   "execution_count": 42,
   "id": "6446e4b6-bdf9-4a3b-b645-cbee6d512cae",
   "metadata": {
    "tags": []
   },
   "outputs": [
    {
     "name": "stdout",
     "output_type": "stream",
     "text": [
      "Vocab size: 13399\n"
     ]
    }
   ],
   "source": [
    "word2vec_model = generate_word2vec(X_train_words)"
   ]
  },
  {
   "cell_type": "markdown",
   "id": "072fdf76-f08a-4885-b75d-c20a419a8828",
   "metadata": {},
   "source": [
    "Vamos a hacer padding con los vectores para que tengan la misma longitud y poder crear los tensores necesarios para TensorFlow:"
   ]
  },
  {
   "cell_type": "code",
   "execution_count": 43,
   "id": "2fd9cb82-c0ed-4fe5-a3ea-83dd7c2a193a",
   "metadata": {
    "tags": []
   },
   "outputs": [],
   "source": [
    "from tensorflow.keras.utils import pad_sequences\n",
    "\n",
    "\n",
    "max_words = 50\n",
    "\n",
    "#Pasamos el pading (500 palabras), tokenizamos pero antes pasamos el texto a secuencias\n",
    "#Cuando tokenizamos pasamos todas las palabras y se convierte a un identificor único del vocabulario\n",
    "\n",
    "X_train_words = pad_sequences(tokenizer.texts_to_sequences(X_train_words.review), maxlen=max_words)\n",
    "X_test_words = pad_sequences(tokenizer.texts_to_sequences(X_test_words.review), maxlen=max_words)"
   ]
  },
  {
   "cell_type": "markdown",
   "id": "3b3a37ba-39f4-430f-8716-9559fd753875",
   "metadata": {},
   "source": [
    "Aplicamos la generación de embeddings con nuestra función:"
   ]
  },
  {
   "cell_type": "code",
   "execution_count": 44,
   "id": "8391e65e-b13f-4eca-9361-69709be4d369",
   "metadata": {
    "tags": []
   },
   "outputs": [],
   "source": [
    "embedding_layer = generate_embedding(word2vec_model, vocab, tokenizer)"
   ]
  },
  {
   "cell_type": "markdown",
   "id": "2d415831-ca40-4111-8e3f-39592697f22a",
   "metadata": {},
   "source": [
    "Generamos el modelo y sus capas. Por supuesto, usaremos la capa de salida con activador sigmoide que nos dará la probabilidad de cada etiqueta."
   ]
  },
  {
   "cell_type": "code",
   "execution_count": 45,
   "id": "03cd5b29-8d5a-460e-b64c-41ff44a8b6f0",
   "metadata": {
    "tags": []
   },
   "outputs": [
    {
     "name": "stdout",
     "output_type": "stream",
     "text": [
      "WARNING:tensorflow:Layer lstm_1 will not use cuDNN kernels since it doesn't meet the criteria. It will use a generic GPU kernel as fallback when running on GPU.\n"
     ]
    }
   ],
   "source": [
    "model_custom = Sequential()\n",
    "#pasamos directamente la capa que hemos generado\n",
    "model_custom.add(embedding_layer)\n",
    "#dropout, función entre celdas y el recurrent_dropout añade aleatoriedad (afecta a las gates)\n",
    "model_custom.add(LSTM(60, dropout=0.3, recurrent_dropout=0.3))\n",
    "model_custom.add(Dense(1, activation=\"sigmoid\"))"
   ]
  },
  {
   "cell_type": "markdown",
   "id": "96c60504-fe4a-4896-bda4-7e1e75ef6703",
   "metadata": {
    "tags": []
   },
   "source": [
    "model_custom.summary()"
   ]
  },
  {
   "cell_type": "code",
   "execution_count": 47,
   "id": "46b4f6b8-198c-4781-ab57-5472fbd433e5",
   "metadata": {
    "tags": []
   },
   "outputs": [],
   "source": [
    "model_custom.compile(loss=\"binary_crossentropy\", optimizer=\"adam\", metrics=[\"accuracy\"])"
   ]
  },
  {
   "cell_type": "markdown",
   "id": "2f4af7bd-e92e-494d-956e-2a63050c0ece",
   "metadata": {},
   "source": [
    "Ahora hacemos otra di¡visión para validation y train para el modelo, y lo entrenamos.  \n",
    "Guardaré el histórico para graficar el rendimiento:"
   ]
  },
  {
   "cell_type": "code",
   "execution_count": 49,
   "id": "9da68bd5-d014-44be-97bf-307d316a3b5d",
   "metadata": {
    "tags": []
   },
   "outputs": [
    {
     "name": "stdout",
     "output_type": "stream",
     "text": [
      "Epoch 1/10\n",
      "351/351 [==============================] - 707s 2s/step - loss: 0.3960 - accuracy: 0.8189 - val_loss: 0.2599 - val_accuracy: 0.8906\n",
      "Epoch 2/10\n",
      "351/351 [==============================] - 683s 2s/step - loss: 0.3426 - accuracy: 0.8486 - val_loss: 0.2378 - val_accuracy: 0.8906\n",
      "Epoch 3/10\n",
      "351/351 [==============================] - 664s 2s/step - loss: 0.3230 - accuracy: 0.8559 - val_loss: 0.2422 - val_accuracy: 0.9062\n",
      "Epoch 4/10\n",
      "351/351 [==============================] - 681s 2s/step - loss: 0.3114 - accuracy: 0.8582 - val_loss: 0.1940 - val_accuracy: 0.8906\n",
      "Epoch 5/10\n",
      "351/351 [==============================] - 646s 2s/step - loss: 0.3059 - accuracy: 0.8625 - val_loss: 0.1905 - val_accuracy: 0.9062\n",
      "Epoch 6/10\n",
      "351/351 [==============================] - 645s 2s/step - loss: 0.2974 - accuracy: 0.8672 - val_loss: 0.1785 - val_accuracy: 0.9062\n",
      "Epoch 7/10\n",
      "351/351 [==============================] - 647s 2s/step - loss: 0.2925 - accuracy: 0.8696 - val_loss: 0.1919 - val_accuracy: 0.9375\n",
      "Epoch 8/10\n",
      "351/351 [==============================] - 646s 2s/step - loss: 0.2890 - accuracy: 0.8709 - val_loss: 0.1845 - val_accuracy: 0.9375\n",
      "Epoch 9/10\n",
      "351/351 [==============================] - 645s 2s/step - loss: 0.2867 - accuracy: 0.8724 - val_loss: 0.1948 - val_accuracy: 0.9375\n",
      "Epoch 10/10\n",
      "351/351 [==============================] - 646s 2s/step - loss: 0.2818 - accuracy: 0.8716 - val_loss: 0.1848 - val_accuracy: 0.9375\n"
     ]
    }
   ],
   "source": [
    "batch_size = 64\n",
    "num_epochs = 10\n",
    "\n",
    "X_train_words_valid, y_valid = X_train_words[:batch_size], y_train_index[:batch_size]  # first batch_size samples\n",
    "X_train_words2, y_train2 = X_train_words[batch_size:], y_train_index[batch_size:]  # rest for training\n",
    "\n",
    "H = model_custom.fit(X_train_words2, y_train2,\n",
    "          validation_data=(X_train_words_valid, y_valid),\n",
    "          batch_size=batch_size, epochs=num_epochs)"
   ]
  },
  {
   "cell_type": "markdown",
   "id": "cead30af-7a28-4845-9910-b89aca336662",
   "metadata": {
    "tags": []
   },
   "source": [
    "Genero la gráfica de evolución de los errores y el accuracy."
   ]
  },
  {
   "cell_type": "code",
   "execution_count": 52,
   "id": "185fa480-d3e1-47d1-9511-af904d2794fd",
   "metadata": {
    "tags": []
   },
   "outputs": [
    {
     "data": {
      "image/png": "[encoded data removed]",
      "text/plain": [
       "<Figure size 640x480 with 1 Axes>"
      ]
     },
     "metadata": {},
     "output_type": "display_data"
    }
   ],
   "source": [
    "plt.plot(H.history['loss'], label='train loss')\n",
    "plt.plot(H.history['val_loss'], label='val loss')\n",
    "plt.plot(H.history['accuracy'], label='train accuracy')\n",
    "plt.plot(H.history['val_accuracy'], label='val accuracy')\n",
    "plt.title('Loss (Binary Crossentropy)')\n",
    "plt.xlabel('Epochs')\n",
    "#plt.ylim(0,0.3)\n",
    "plt.ylabel('Loss')\n",
    "plt.legend()\n",
    "plt.show()\n",
    "\n"
   ]
  },
  {
   "cell_type": "markdown",
   "id": "91e2ecbf-f15f-40c9-8d44-ed30b6931aca",
   "metadata": {},
   "source": [
    "Realizamos las predicciones sobre el test:"
   ]
  },
  {
   "cell_type": "code",
   "execution_count": 60,
   "id": "f17c1fe7-1131-4ed5-b2f5-02333dc4ba2a",
   "metadata": {
    "tags": []
   },
   "outputs": [
    {
     "name": "stdout",
     "output_type": "stream",
     "text": [
      "235/235 [==============================] - 19s 79ms/step\n"
     ]
    }
   ],
   "source": [
    "predictions = model_custom.predict(X_test_words)\n",
    "# Aplico umbral de decisión de 0.5\n",
    "threshold = 0.5\n",
    "predictions_class = np.where(predictions >= threshold, 1, 0)"
   ]
  },
  {
   "cell_type": "code",
   "execution_count": 71,
   "id": "0030938e-9a14-4fe9-b920-bd8a582b03df",
   "metadata": {
    "tags": []
   },
   "outputs": [
    {
     "data": {
      "text/plain": [
       "array([[0.9660059 ],\n",
       "       [0.9582782 ],\n",
       "       [0.10192148],\n",
       "       [0.03678713],\n",
       "       [0.9697084 ],\n",
       "       [0.08879656],\n",
       "       [0.20720133],\n",
       "       [0.0204176 ],\n",
       "       [0.04655756],\n",
       "       [0.6619704 ]], dtype=float32)"
      ]
     },
     "execution_count": 71,
     "metadata": {},
     "output_type": "execute_result"
    }
   ],
   "source": [
    "predictions[:10]"
   ]
  },
  {
   "cell_type": "code",
   "execution_count": 72,
   "id": "71a84617-86e4-4608-a642-cd84d1c5d357",
   "metadata": {
    "tags": []
   },
   "outputs": [
    {
     "data": {
      "text/plain": [
       "array([[1],\n",
       "       [1],\n",
       "       [0],\n",
       "       [0],\n",
       "       [1],\n",
       "       [0],\n",
       "       [0],\n",
       "       [0],\n",
       "       [0],\n",
       "       [1]])"
      ]
     },
     "execution_count": 72,
     "metadata": {},
     "output_type": "execute_result"
    }
   ],
   "source": [
    "predictions_class[:10]"
   ]
  },
  {
   "cell_type": "markdown",
   "id": "a5175966-f520-4d2d-be28-dafbe3f41083",
   "metadata": {},
   "source": [
    "Veamos unas métricas más, esta vez sobre el dataset de Test y las predicciones."
   ]
  },
  {
   "cell_type": "code",
   "execution_count": 66,
   "id": "ff42e819-3848-4da6-9696-0dbd5d08ae1f",
   "metadata": {
    "tags": []
   },
   "outputs": [
    {
     "name": "stdout",
     "output_type": "stream",
     "text": [
      "Confussion matrix:\n",
      "[[3314  443]\n",
      " [ 492 3251]]\n",
      "\n",
      "Classification report:\n",
      "              precision    recall  f1-score   support\n",
      "\n",
      "           0       0.87      0.88      0.88      3757\n",
      "           1       0.88      0.87      0.87      3743\n",
      "\n",
      "    accuracy                           0.88      7500\n",
      "   macro avg       0.88      0.88      0.88      7500\n",
      "weighted avg       0.88      0.88      0.88      7500\n",
      "\n",
      "Accuracy score:0.8753333333333333\n"
     ]
    }
   ],
   "source": [
    "print('Confussion matrix:\\n{}'.format(confusion_matrix(y_test_index, predictions_class)))\n",
    "print('\\nClassification report:\\n{}'.format(classification_report(y_test_index, predictions_class)))\n",
    "print('Accuracy score:{}'.format(accuracy_score(y_test_index, predictions_class)))"
   ]
  },
  {
   "cell_type": "markdown",
   "id": "1d0edd5e-a71e-4837-989a-a8277e2140bd",
   "metadata": {},
   "source": [
    "· Con un coste computacional muchísimo más alto que ha obligado a reducir el tamaño del dataset y los vectores resultantes del embedding, y con no mucho afinamiento tampoco, hemos conseguido unos primeros mejores resultados en general, de un incremento de aproximadamente un 5% en el accuracy general.  \n",
    "· Con tan sólo 10 épocas, se han equilibrado los accuracies entre las dos clases, aumentando su puntuación. Además, Se han elevado y equilibrado también los Recalls de ambas categorías y presenta poco overfitting con un DropOut aplicado.  \n",
    "· En su gráfica de tendencia se ve que el modelo converge hasta cierto punto en que se equilibran, y siguen mejorando las tases de error más allá de las 10 épocas. Con un poco de más ajuste de los hiperparámetros y más épocas, se podrán mejorar los resultados."
   ]
  },
  {
   "cell_type": "code",
   "execution_count": null,
   "id": "e9a82db6-4c14-49f7-a212-57c3caa105d0",
   "metadata": {},
   "outputs": [],
   "source": []
  }
 ],
 "metadata": {
  "kernelspec": {
   "display_name": "Python 3 (ipykernel)",
   "language": "python",
   "name": "python3"
  },
  "language_info": {
   "codemirror_mode": {
    "name": "ipython",
    "version": 3
   },
   "file_extension": ".py",
   "mimetype": "text/x-python",
   "name": "python",
   "nbconvert_exporter": "python",
   "pygments_lexer": "ipython3",
   "version": "3.11.5"
  }
 },
 "nbformat": 4,
 "nbformat_minor": 5
}
