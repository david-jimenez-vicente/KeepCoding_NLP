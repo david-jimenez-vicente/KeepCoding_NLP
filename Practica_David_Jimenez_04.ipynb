{
 "cells": [
  {
   "cell_type": "markdown",
   "id": "e02c6eb3-23aa-4ff4-8f2e-33be3f97206f",
   "metadata": {},
   "source": [
    "<h1 align=center>PRÁCTICA DEL MÓDULO DE NLP</h1>"
   ]
  },
  {
   "cell_type": "markdown",
   "id": "f91f3b83-4c3a-4f3a-b9f2-71f3884b081b",
   "metadata": {},
   "source": [
    "<h3 align=center>ALUMNO: David Jiménez Vicente</h3>"
   ]
  },
  {
   "cell_type": "markdown",
   "id": "18aae174-f60d-4481-a6d5-55c9b6e9acf0",
   "metadata": {},
   "source": [
    " <h2 align=center>Notebook 4 : Conclusiones</h2>"
   ]
  },
  {
   "cell_type": "markdown",
   "id": "0ebecd0e-30c4-4fdb-9d29-f7a66d4e2eda",
   "metadata": {},
   "source": []
  },
  {
   "cell_type": "markdown",
   "id": "089154a5-3765-4456-a759-0acb00ccc109",
   "metadata": {},
   "source": [
    "## *Vuelvo a repetir aquí las conclusiones de los modelos, uniéndolos en este documento.*"
   ]
  },
  {
   "cell_type": "markdown",
   "id": "35eaafc6-b1ed-4880-b9dc-48eb6a00db05",
   "metadata": {},
   "source": []
  },
  {
   "cell_type": "markdown",
   "id": "48acef91-079e-4b57-9c6c-b2614dfe66dc",
   "metadata": {},
   "source": [
    "### Modelo de Machine Learning"
   ]
  },
  {
   "cell_type": "markdown",
   "id": "936d0b24-e5d5-46e9-a12d-5c06661794fa",
   "metadata": {},
   "source": [
    "· En el primer modelo, hemos usado un simple modelo de Machine Learning con una Regresión Logística. Los distintos valores probados de C, el parámetro de regularización, arrojan el mejor resultado cuando es 1, es decir, cuando no está regularizando (ya que cualquier término de la regresión multiplicado por 1 se quedará igual a sí mismo.)"
   ]
  },
  {
   "cell_type": "markdown",
   "id": "ae121a67-d918-4190-a70d-bcda77b20556",
   "metadata": {},
   "source": [
    "· El modelo en sí sin mucho afinamiento consigue unas relativamente decentes cifras:  \n",
    "Su Precisión es mejor prediciendo la clase positiva, pero su Recall es mejor capturando las negativas en todo el dataset.  "
   ]
  },
  {
   "cell_type": "markdown",
   "id": "b20109b2-0ea7-45d0-8d09-7ce553642f46",
   "metadata": {},
   "source": [
    "### Modelo de Deep Learning"
   ]
  },
  {
   "cell_type": "markdown",
   "id": "76de2d65-5e7e-42b1-b61d-db50622af1f2",
   "metadata": {},
   "source": [
    "· Con un coste computacional muchísimo más alto que ha obligado a reducir el tamaño del dataset y los vectores resultantes del embedding, y con no mucho afinamiento tampoco, hemos conseguido unos primeros mejores resultados en general, de un incremento de aproximadamente un 5% en el accuracy general.  \n",
    "· Con tan sólo 10 épocas, se han equilibrado los accuracies entre las dos clases, aumentando su puntuación. Además, Se han elevado y equilibrado también los Recalls de ambas categorías y presenta poco overfitting con un DropOut aplicado.  \n",
    "· En su gráfica de tendencia se ve que el modelo converge hasta cierto punto en que se equilibran, y siguen mejorando las tases de error más allá de las 10 épocas. Con un poco de más ajuste de los hiperparámetros y más épocas, se podrán mejorar los resultados."
   ]
  },
  {
   "cell_type": "code",
   "execution_count": null,
   "id": "62b1badd-83e9-4b8b-b294-cbcf94b83cee",
   "metadata": {},
   "outputs": [],
   "source": []
  }
 ],
 "metadata": {
  "kernelspec": {
   "display_name": "Python 3 (ipykernel)",
   "language": "python",
   "name": "python3"
  },
  "language_info": {
   "codemirror_mode": {
    "name": "ipython",
    "version": 3
   },
   "file_extension": ".py",
   "mimetype": "text/x-python",
   "name": "python",
   "nbconvert_exporter": "python",
   "pygments_lexer": "ipython3",
   "version": "3.11.5"
  }
 },
 "nbformat": 4,
 "nbformat_minor": 5
}
